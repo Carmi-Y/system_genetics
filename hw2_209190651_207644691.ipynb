{
 "cells": [
  {
   "cell_type": "markdown",
   "metadata": {},
   "source": [
    "# System genetics assignment 2"
   ]
  },
  {
   "cell_type": "markdown",
   "metadata": {},
   "source": [
    "### Setup"
   ]
  },
  {
   "cell_type": "code",
   "execution_count": 1,
   "metadata": {},
   "outputs": [],
   "source": [
    "import os\n",
    "import platform\n",
    "import seaborn as sns\n",
    "import numpy as np\n",
    "import pandas as pd\n",
    "import statsmodels.api as sm\n",
    "import matplotlib.pyplot as plt\n",
    "from sklearn.linear_model import LinearRegression"
   ]
  },
  {
   "cell_type": "markdown",
   "metadata": {},
   "source": [
    "### Read data sources"
   ]
  },
  {
   "cell_type": "code",
   "execution_count": 2,
   "metadata": {},
   "outputs": [],
   "source": [
    "# Based on the platform choose the file locations\n",
    "if platform.system() == 'Windows':\n",
    "\t# Rotem's file paths\n",
    "\tgenotype_file_path = os.path.normpath('')\n",
    "\tphenotypes_file_path = os.path.normpath('')\n",
    "else:\n",
    "\t# Carmi's file paths\n",
    "\tgenotype_file_path = os.path.normpath('/Users/Shared/Data/system_genetics_data/genotypes.xls')\n",
    "\tphenotypes_file_path = os.path.normpath('/Users/Shared/Data/system_genetics_data/phenotypes.xls')\n",
    "\t\n",
    "\n",
    "genotypes_df = pd.read_excel(genotype_file_path)\n",
    "chosen_phenotype_df = pd.read_excel(phenotypes_file_path)"
   ]
  },
  {
   "cell_type": "markdown",
   "metadata": {},
   "source": [
    "In the genotype table, B and D denote parental homozyges individuals and H denotes a heterozygos individual. U are unknows and will therefore be dropped when using their data"
   ]
  },
  {
   "cell_type": "markdown",
   "metadata": {},
   "source": [
    "Import the Climbing scores after 16 mg/kg i.p. methamphetamine injection [quadrant crossings/min] phenotype from the phenotype table"
   ]
  },
  {
   "cell_type": "code",
   "execution_count": 3,
   "metadata": {},
   "outputs": [
    {
     "data": {
      "text/html": [
       "<div>\n",
       "<style scoped>\n",
       "    .dataframe tbody tr th:only-of-type {\n",
       "        vertical-align: middle;\n",
       "    }\n",
       "\n",
       "    .dataframe tbody tr th {\n",
       "        vertical-align: top;\n",
       "    }\n",
       "\n",
       "    .dataframe thead th {\n",
       "        text-align: right;\n",
       "    }\n",
       "</style>\n",
       "<table border=\"1\" class=\"dataframe\">\n",
       "  <thead>\n",
       "    <tr style=\"text-align: right;\">\n",
       "      <th></th>\n",
       "      <th>ID_FOR_CHECK</th>\n",
       "      <th>Phenotype</th>\n",
       "      <th>Authors</th>\n",
       "      <th>Year</th>\n",
       "      <th>Pubmed Id</th>\n",
       "      <th>C57BL/6J</th>\n",
       "      <th>DBA/2J</th>\n",
       "      <th>BXD1</th>\n",
       "      <th>BXD2</th>\n",
       "      <th>BXD5</th>\n",
       "      <th>...</th>\n",
       "      <th>BXD94</th>\n",
       "      <th>BXD95</th>\n",
       "      <th>BXD96</th>\n",
       "      <th>BXD97</th>\n",
       "      <th>BXD98</th>\n",
       "      <th>BXD99</th>\n",
       "      <th>BXD100</th>\n",
       "      <th>BXD101</th>\n",
       "      <th>BXD102</th>\n",
       "      <th>BXD103</th>\n",
       "    </tr>\n",
       "  </thead>\n",
       "  <tbody>\n",
       "    <tr>\n",
       "      <th>172</th>\n",
       "      <td>172</td>\n",
       "      <td>Climbing scores after 16 mg/kg i.p. methamphet...</td>\n",
       "      <td>Grisel JE, Belknap JK, O'Toole LA, Helms ML, W...</td>\n",
       "      <td>1997</td>\n",
       "      <td>8987796.0</td>\n",
       "      <td>2.3</td>\n",
       "      <td>0.6</td>\n",
       "      <td>0.1</td>\n",
       "      <td>-0.8</td>\n",
       "      <td>1.5</td>\n",
       "      <td>...</td>\n",
       "      <td>NaN</td>\n",
       "      <td>NaN</td>\n",
       "      <td>NaN</td>\n",
       "      <td>NaN</td>\n",
       "      <td>NaN</td>\n",
       "      <td>NaN</td>\n",
       "      <td>NaN</td>\n",
       "      <td>NaN</td>\n",
       "      <td>NaN</td>\n",
       "      <td>NaN</td>\n",
       "    </tr>\n",
       "  </tbody>\n",
       "</table>\n",
       "<p>1 rows × 99 columns</p>\n",
       "</div>"
      ],
      "text/plain": [
       "     ID_FOR_CHECK                                          Phenotype  \\\n",
       "172           172  Climbing scores after 16 mg/kg i.p. methamphet...   \n",
       "\n",
       "                                               Authors  Year  Pubmed Id  \\\n",
       "172  Grisel JE, Belknap JK, O'Toole LA, Helms ML, W...  1997  8987796.0   \n",
       "\n",
       "     C57BL/6J  DBA/2J  BXD1  BXD2  BXD5  ...  BXD94  BXD95  BXD96  BXD97  \\\n",
       "172       2.3     0.6   0.1  -0.8   1.5  ...    NaN    NaN    NaN    NaN   \n",
       "\n",
       "     BXD98  BXD99  BXD100  BXD101  BXD102  BXD103  \n",
       "172    NaN    NaN     NaN     NaN     NaN     NaN  \n",
       "\n",
       "[1 rows x 99 columns]"
      ]
     },
     "metadata": {},
     "output_type": "display_data"
    }
   ],
   "source": [
    "chosen_phenotype_row = chosen_phenotype_df.loc[chosen_phenotype_df.ID_FOR_CHECK == 172]\n",
    "# Remove the first 7 indexes since all the fields between 0 and 4 are metadata and 5 and 6 are mice we do not have in the phenotypes table\n",
    "chosen_phenotype_row_data_homozygos = chosen_phenotype_row.iloc[:, 7:]\n",
    "\n",
    "display(chosen_phenotype_row)"
   ]
  },
  {
   "cell_type": "code",
   "execution_count": 4,
   "metadata": {},
   "outputs": [],
   "source": [
    "def get_phenotype_genotype_df(all_snps_df, chosen_phenotype_df, is_include_heterozygos_genotypes=False):\n",
    "\t'''\n",
    "\tDescription\n",
    "\t-----------\n",
    "\tMake a dataframe with snps as their original letter, the numaric represantation of them and the phenotype value.\n",
    "\tThe function will always drop \"U\" - unknown genotypes and if is_include_geterozygos_genotypes=True it will incluse hetezygos (H) individuals as well.\n",
    "\tThis function does not change the state of the provided dataframes.\n",
    "\n",
    "\tParameters\n",
    "\t----------\n",
    "\tall_snps_df : pandas dataframe\n",
    "\t\tThe dataframe containing the individuals and thier genotype as a single letter.\n",
    "\t\tD and B are homozygos parental genotypes, H is geterozygos and U is unknown.\n",
    "\tchosen_phenotype_df : pandas dataframe\n",
    "\t\tThe dataframe containing the individuals and thier phenotype measurement as a float from the chosen phenotype row (only a single row is expected).\n",
    "\tis_include_heterozygos_genotypes : bool\n",
    "\t\tif set to True, then heterozygos individuals will be included in the returned matrix\n",
    "\n",
    "\tReturns\n",
    "\t-------\n",
    "\tgenotype_phenotype_df : pandas dataframe\n",
    "\t\tFields:\n",
    "\t\t\tindividual : str\n",
    "\t\t\t\tThe individual BXD id (ex BXD1)\n",
    "\t\t\tsnp_locus : str,\n",
    "\t\t\t\tThe snp locus indentifier (ex rs6269442)\n",
    "\t\t\tsnp_chr : int,\n",
    "\t\t\t\tthe snp chromosome (1, 2...)\n",
    "\t\t\tgenotype_letter : str,\n",
    "\t\t\t\tB and D denote parental homozyges individuals and H denotes a heterozygos individual\n",
    "\t\t\tgenotype_num : int,\n",
    "\t\t\t\tThe genotype_letter converted to a number, B=0, H=1, D=2\n",
    "\t\t\tphenotype_value : float\n",
    "\t\t\t\tThe value of the phenotype to associate as a float\n",
    "\t'''\n",
    "\tchosen_phenotype_df_data = chosen_phenotype_df.copy()\n",
    "\t# Remove the first 7 indexes since all the fields between 0 and 4 are metadata and 5 and 6 are mice we do not have in the phenotypes table\n",
    "\tchosen_phenotype_df_data = chosen_phenotype_df_data.iloc[:, 7:]\n",
    "\t# As a first step, remove columns from the phenotypes df that have NaN in them.\n",
    "\t# Since we are expecting a single row then this is OK and won't destroy data for other associations.\n",
    "\tchosen_phenotype_df_data = chosen_phenotype_df_data.dropna(axis=1, how='any')\n",
    "\n",
    "\t# Now remove all genotypes for which we do not have a phenotypic measurement\n",
    "\tsnps_df = all_snps_df.copy()\n",
    "\t# Split to data and metadata for ease of work\n",
    "\tsnps_df_metadata = snps_df.iloc[:, :4]\n",
    "\tsnps_df_data = snps_df.iloc[:, 4:]\n",
    "\t# For some reasson there are 'b' values in the file convert them to 'B'\n",
    "\tsnps_df_data = snps_df_data.replace('b', 'B')\n",
    "\n",
    "\t# Get the columns to keep\n",
    "\tcommon_columns = snps_df_data.columns.intersection(chosen_phenotype_df_data.columns)\n",
    "\tsnps_df_data = snps_df_data.loc[:, common_columns]\n",
    "\t# Put all the data back into the original dataframe\n",
    "\tsnps_df = pd.concat([snps_df_metadata, snps_df_data], axis=1)\n",
    "\n",
    "\t# As the last step of data cleaning set the letters to drop.\n",
    "\t# U is always dropped, and if we aren't keeping heterozygos individuals then remove H as well.\n",
    "\tletters_to_drop = ['U']\n",
    "\tif is_include_heterozygos_genotypes:\n",
    "\t\tletters_to_drop.append('H')\n",
    "\n",
    "\tsnps_df = snps_df.replace(letters_to_drop, pd.NA)\n",
    "\n",
    "\t# Prepare all columns to be saved into a flattened df\n",
    "\tindividuals_column = np.tile(snps_df_data.columns, snps_df_data.shape[0])\n",
    "\tlocus_column = np.tile(snps_df['Locus'].values.flatten(), snps_df_data.shape[1])\n",
    "\tchr_column = np.tile(snps_df['Chr_Build37'].values.flatten(), snps_df_data.shape[1])\n",
    "\tbinary_rep = [ 0 if value == 'B' else (1 if value == 'H' else 2) for value in snps_df_data.values.flatten()]\n",
    "\tphenotypes_column = np.tile(chosen_phenotype_df_data, snps_df_data.shape[0])[0]\n",
    "\t\n",
    "\t\n",
    "\t# Create the final dataframe\n",
    "\tgenotype_phenotype_df = pd.DataFrame({\n",
    "\t\t'individual' : individuals_column,\n",
    "\t\t'locus' : locus_column,\n",
    "\t\t'chr' : chr_column,\n",
    "\t\t'genotype_num' : binary_rep,\n",
    "\t\t'phenotype_value' : phenotypes_column\n",
    "\t})\n",
    "\n",
    "\t# Since the letter are across many fields it's easier to fill the column this way as opposed to what was done above\n",
    "\tgenotype_phenotype_df['genotype_letter'] = genotype_phenotype_df['genotype_num'].apply(lambda x: 'B' if x == 0 else ('H' if x == 1 else 'D'))\n",
    "\n",
    "\t# Move 'phenotype_value' column to the end\n",
    "\tcolumns = [col for col in genotype_phenotype_df.columns if col != 'phenotype_value'] + ['phenotype_value']\n",
    "\tgenotype_phenotype_df = genotype_phenotype_df[columns]\n",
    "\n",
    "\n",
    "\treturn genotype_phenotype_df"
   ]
  },
  {
   "cell_type": "markdown",
   "metadata": {},
   "source": [
    "## Question 1"
   ]
  },
  {
   "cell_type": "markdown",
   "metadata": {},
   "source": [
    "### Find a locus with hetroziygosity"
   ]
  },
  {
   "cell_type": "code",
   "execution_count": 5,
   "metadata": {},
   "outputs": [
    {
     "name": "stdout",
     "output_type": "stream",
     "text": [
      "SNP rs6269442 at row 0 has heterozygosity.\n"
     ]
    }
   ],
   "source": [
    "# Save the locus index found for later use\n",
    "locus_index = -1\n",
    "locus_id = ''\n",
    "\n",
    "for index, row in genotypes_df.iterrows():\n",
    "\t# Exclude the first three columns (Locus, Chr_Build3, Build37_pc)\n",
    "\talleles = row[3:]\n",
    "\tif 'B' in alleles.values and 'D' in alleles.values and 'H' in alleles.values:\n",
    "\t\tprint(f\"SNP {row['Locus']} at row {index} has heterozygosity.\")\n",
    "\t\tlocus_index = index\n",
    "\t\tlocus_id = row['Locus']\n",
    "\t\tbreak "
   ]
  },
  {
   "cell_type": "code",
   "execution_count": 6,
   "metadata": {},
   "outputs": [],
   "source": [
    "chosen_snp = genotypes_df.iloc[index]\n",
    "chosen_snp_data = chosen_snp.values[4:]"
   ]
  },
  {
   "cell_type": "code",
   "execution_count": 7,
   "metadata": {},
   "outputs": [],
   "source": [
    "genotype_phenotype_df = get_phenotype_genotype_df(genotypes_df, chosen_phenotype_row, is_include_heterozygos_genotypes=True)"
   ]
  },
  {
   "cell_type": "markdown",
   "metadata": {},
   "source": [
    "### (a) linear regression model in which heterozygous markers are ignored"
   ]
  },
  {
   "cell_type": "code",
   "execution_count": 8,
   "metadata": {},
   "outputs": [
    {
     "name": "stdout",
     "output_type": "stream",
     "text": [
      "(24, 6)\n"
     ]
    }
   ],
   "source": [
    "chosen_snp_df = genotype_phenotype_df.loc[genotype_phenotype_df['locus'] == locus_id]\n",
    "print(chosen_snp_df.shape)"
   ]
  },
  {
   "cell_type": "code",
   "execution_count": 9,
   "metadata": {},
   "outputs": [],
   "source": [
    "# Linear regression implementation goes here"
   ]
  },
  {
   "cell_type": "code",
   "execution_count": 10,
   "metadata": {},
   "outputs": [
    {
     "name": "stdout",
     "output_type": "stream",
     "text": [
      "Intercept: 0.46561887462544665\n",
      "R^2: 0.004045740887475557\n",
      "P-values (statsmodels): genotype_num    0.0\n",
      "dtype: float64\n"
     ]
    },
    {
     "data": {
      "image/png": "[encoded data removed]",
      "text/plain": [
       "<Figure size 1000x1000 with 1 Axes>"
      ]
     },
     "metadata": {},
     "output_type": "display_data"
    }
   ],
   "source": [
    "genotype_numbers = genotype_phenotype_df[['genotype_num']]\n",
    "phenotype_values = genotype_phenotype_df['phenotype_value']\n",
    "\n",
    "# Initialize and fit the linear regression model\n",
    "model = LinearRegression()\n",
    "model.fit(genotype_numbers, phenotype_values)\n",
    "r_sqaured = model.score(genotype_numbers, phenotype_values)\n",
    "\n",
    "print(f\"Intercept: {model.intercept_}\")\n",
    "print(f'R^2: {r_sqaured}')\n",
    "\n",
    "# Save for plotting\n",
    "genotype_phenotype_df['Predicted_Trait'] = model.predict(genotype_numbers)\n",
    "\n",
    "X = sm.add_constant(genotype_numbers)\n",
    "# Fit the model using statsmodels to get the p-value\n",
    "model_stats = sm.OLS(phenotype_values, genotype_numbers).fit()\n",
    "print(\"P-values (statsmodels):\", model_stats.pvalues)\n",
    "\n",
    "# Plot the data and the regression line\n",
    "fig, ax = plt.subplots(figsize=(10, 10))\n",
    "sns.scatterplot(x='genotype_num', y='phenotype_value', data=genotype_phenotype_df)\n",
    "sns.lineplot(x='genotype_num', y='Predicted_Trait', data=genotype_phenotype_df, color='red')\n",
    "plt.xlabel('SNP (B=0, D=1)')\n",
    "plt.ylabel('Climbing scores after 16 mg/kg i.p. \\nmethamphetamine injection [quadrant crossings/min]')\n",
    "plt.title('Linear Regression for Homozygos individuals only\\n')\n",
    "plt.show()"
   ]
  }
 ],
 "metadata": {
  "kernelspec": {
   "display_name": "PHENOME_ANLYSIS",
   "language": "python",
   "name": "python3"
  },
  "language_info": {
   "codemirror_mode": {
    "name": "ipython",
    "version": 3
   },
   "file_extension": ".py",
   "mimetype": "text/x-python",
   "name": "python",
   "nbconvert_exporter": "python",
   "pygments_lexer": "ipython3",
   "version": "3.11.8"
  }
 },
 "nbformat": 4,
 "nbformat_minor": 2
}
